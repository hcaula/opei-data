{
 "cells": [
  {
   "cell_type": "code",
   "execution_count": 35,
   "metadata": {},
   "outputs": [],
   "source": [
    "import pandas as pd\n",
    "import re"
   ]
  },
  {
   "cell_type": "markdown",
   "metadata": {},
   "source": [
    "# Modalities A and B\n",
    "The A and B modalities are very similar in the way they're structured, so it makes sense to treat them similarly. For the Modality C, some few adjustments are going to have to be made, so we'll deal with it later.\n",
    "\n",
    "<b>Objectives</b>\n",
    "- Retrieve the amount of right answers per question\n",
    "- Retrieve the amount of candidates for each score"
   ]
  },
  {
   "cell_type": "code",
   "execution_count": 563,
   "metadata": {},
   "outputs": [
    {
     "name": "stdout",
     "output_type": "stream",
     "text": [
      "140\n"
     ]
    }
   ],
   "source": [
    "# Full results CSV's\n",
    "mod_a_results = pd.read_csv('./data/mod_a.csv', names=['code', 'score'], index_col=False)\n",
    "mod_b_results = pd.read_csv('./data/mod_b.csv', names=['code', 'score'], index_col=False)\n",
    "\n",
    "# Number of canditades for each modality\n",
    "total_mod_A = len(mod_a_results.index)\n",
    "total_mod_B = len(mod_b_results.index)"
   ]
  },
  {
   "cell_type": "code",
   "execution_count": 382,
   "metadata": {},
   "outputs": [],
   "source": [
    "# Reading individual rooms results\n",
    "files = {\n",
    "    'A': [\n",
    "        open('./data/mod_a_sala_4.txt', encoding='utf-8').read(),\n",
    "        open('./data/mod_a_sala_5.txt', encoding='utf-8').read(),\n",
    "        open('./data/mod_a_sala_6.txt', encoding='utf-8').read(),\n",
    "        open('./data/mod_a_sala_7.txt', encoding='utf-8').read()\n",
    "    ],\n",
    "    'B': [\n",
    "        open('./data/mod_b_sala_11.txt', encoding='utf-8').read(),\n",
    "        open('./data/mod_b_sala_12.txt', encoding='utf-8').read(),\n",
    "        open('./data/mod_b_sala_13.txt', encoding='utf-8').read(),\n",
    "        open('./data/mod_b_sala_14.txt', encoding='utf-8').read(),\n",
    "        open('./data/mod_b_sala_15.txt', encoding='utf-8').read(),\n",
    "        open('./data/mod_b_extra.txt', encoding='utf-8').read()\n",
    "    ]\n",
    "}"
   ]
  },
  {
   "cell_type": "code",
   "execution_count": 383,
   "metadata": {},
   "outputs": [],
   "source": [
    "# Using regex to retrieve only the answer list\n",
    "\n",
    "answers = {'A': [], 'B': []}\n",
    "for modality in files:\n",
    "    for room in modalities[modality]:\n",
    "        \n",
    "        # Removing break lines and whitespaces for easier regex pattern\n",
    "        string = room.replace('\\n', '').replace(' ','');\n",
    "\n",
    "        # .*? - Anything until you find the next pattern\n",
    "        # \\d* - Any combination of digits (e.g.: 1, 5, 20), indicating the question number\n",
    "        # \\.  - The dot character between the question number and the option marked\n",
    "        # \\w  - Any character, indicating the option that the student marked\n",
    "        # \\+* - The plus signal, indicating if it's the correct answer (asterisk because it might not be a right answer)\n",
    "        matches = re.findall('.*?(\\d*\\.\\w\\+*)', string)\n",
    "\n",
    "        # extend() instead of append() in order to add each individual element to list\n",
    "        answers[modality].extend(matches)"
   ]
  },
  {
   "cell_type": "code",
   "execution_count": 510,
   "metadata": {},
   "outputs": [],
   "source": [
    "# Checking which answers are right ones based on weather or not  it contains a plus sign besides it\n",
    "\n",
    "right_answers = {'A': [], 'B': []}\n",
    "for modality in answers:\n",
    "    for answer in answers[modality]:\n",
    "        \n",
    "        # Matches two groups: the question number and the plus sign\n",
    "        matches = re.match('(\\d*)\\.\\w(\\+)*', answer)\n",
    "        number = matches.group(1)\n",
    "        is_right = matches.group(2)\n",
    "\n",
    "        # Checking if answer list is over and it's a right question\n",
    "        if (number and is_right):\n",
    "            question_number = int(number)\n",
    "\n",
    "            # Appends 0 to the list if it hasn't already\n",
    "            if (len(right_answers[modality]) < question_number): right_answers[modality].append(1)\n",
    "            else: right_answers[modality][question_number-1] += 1\n",
    "                "
   ]
  },
  {
   "cell_type": "code",
   "execution_count": 547,
   "metadata": {},
   "outputs": [],
   "source": [
    "# Organizing Data Frame, adding some new columns and exporting to CSV format\n",
    "\n",
    "questions = pd.DataFrame(data = right_answers)\n",
    "questions = questions.set_index([list(range(1,21))])\n",
    "questions.index.name = 'Question'\n",
    "questions['%A'] = questions.apply(lambda x: ((x[0]/total_mod_A)*100).round(1), axis=1)\n",
    "questions['%B'] = questions.apply(lambda x: ((x[1]/total_mod_B)*100).round(1), axis=1)\n",
    "questions['normalized_A'] = questions.apply(lambda x: (x[0]/max(questions['A'])).round(1), axis=1)\n",
    "questions['normalized_B'] = questions.apply(lambda x: (x[1]/max(questions['B'])).round(1), axis=1)\n",
    "\n",
    "mod_a = questions[['A', '%A', 'normalized_A']].copy()\n",
    "mod_a = mod_a.rename(columns = {'A': 'Total', '%A': '%', 'normalized_A': 'Normalized'})\n",
    "\n",
    "mod_b = questions[['B', '%B', 'normalized_B']].copy()\n",
    "mod_b = mod_b.rename(columns = {'B': 'Total', '%B': '%', 'normalized_B': 'Normalized'})\n",
    "\n",
    "mod_a.to_csv('./outputs/questions_mod_a.csv')\n",
    "mod_b.to_csv('./outputs/questions_mod_b.csv')"
   ]
  },
  {
   "cell_type": "code",
   "execution_count": 557,
   "metadata": {},
   "outputs": [
    {
     "data": {
      "text/plain": [
       "0       142431-G\n",
       "1       630009-J\n",
       "2       015216-G\n",
       "3       707364-I\n",
       "4       308075-E\n",
       "5       238953-B\n",
       "6       281544-F\n",
       "7       721849-C\n",
       "8       561787-F\n",
       "9       566313-F\n",
       "10      174382-G\n",
       "11      274875-E\n",
       "12      452122-H\n",
       "13      249160-D\n",
       "14      111261-D\n",
       "15      238168-J\n",
       "16      966975-D\n",
       "17      801279-I\n",
       "18      447908-D\n",
       "19      743502-C\n",
       "20      591426-I\n",
       "21      248445-I\n",
       "22      321182-I\n",
       "23      020386-A\n",
       "24      626487-E\n",
       "25      874144-J\n",
       "26      881182-J\n",
       "27      514251-J\n",
       "28      917637-E\n",
       "29      521167-D\n",
       "         ...    \n",
       "110     860821-G\n",
       "111     996087-A\n",
       "112     469783-I\n",
       "113     292816-J\n",
       "114     444761-H\n",
       "115     099332-H\n",
       "116     534724-G\n",
       "117     050471-I\n",
       "118     790503-F\n",
       "119     506710-A\n",
       "120     927366-E\n",
       "121     126944-H\n",
       "122     814000-E\n",
       "123     120795-F\n",
       "124     570445-G\n",
       "125     585826-F\n",
       "126     789377-C\n",
       "127     213199-G\n",
       "128     479888-F\n",
       "129     626919-E\n",
       "130     079942-C\n",
       "131     876855-A\n",
       "132     490197-B\n",
       "133     343254-C\n",
       "134     848347-F\n",
       "135     051758-H\n",
       "136     293932-J\n",
       "137     608839-F\n",
       "138     415959-E\n",
       "139     245176-G\n",
       "Name: code, Length: 140, dtype: object"
      ]
     },
     "execution_count": 557,
     "metadata": {},
     "output_type": "execute_result"
    }
   ],
   "source": [
    "mod_a_results = pd.read_csv('./data/mod_a.csv', names=['code', 'score'], index_col=False)"
   ]
  },
  {
   "cell_type": "code",
   "execution_count": null,
   "metadata": {},
   "outputs": [],
   "source": []
  }
 ],
 "metadata": {
  "kernelspec": {
   "display_name": "Python 3",
   "language": "python",
   "name": "python3"
  },
  "language_info": {
   "codemirror_mode": {
    "name": "ipython",
    "version": 3
   },
   "file_extension": ".py",
   "mimetype": "text/x-python",
   "name": "python",
   "nbconvert_exporter": "python",
   "pygments_lexer": "ipython3",
   "version": "3.6.5"
  }
 },
 "nbformat": 4,
 "nbformat_minor": 2
}
