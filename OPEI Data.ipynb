{
 "cells": [
  {
   "cell_type": "code",
   "execution_count": 35,
   "metadata": {},
   "outputs": [],
   "source": [
    "import pandas as pd\n",
    "import re"
   ]
  },
  {
   "cell_type": "code",
   "execution_count": 20,
   "metadata": {},
   "outputs": [],
   "source": [
    "# Reading results CSV's\n",
    "labels = ['student_code', 'right_awnsers','extra_info']\n",
    "mod_a = pd.read_csv('./data/mod_A.csv', names=labels)\n",
    "mod_b = pd.read_csv('./data/mod_B.csv', names=labels)"
   ]
  },
  {
   "cell_type": "code",
   "execution_count": 21,
   "metadata": {},
   "outputs": [],
   "source": [
    "# Adding modality column\n",
    "mod_a['modality'] = 'A'\n",
    "mod_b['modality'] = 'B'"
   ]
  },
  {
   "cell_type": "code",
   "execution_count": 320,
   "metadata": {},
   "outputs": [],
   "source": [
    "# Concatening all modalities on a single Data Frame\n",
    "all_mods = pd.concat([mod_a, mod_b])"
   ]
  },
  {
   "cell_type": "code",
   "execution_count": 360,
   "metadata": {},
   "outputs": [],
   "source": [
    "# Reading individual rooms results\n",
    "modalities = {\n",
    "    'A': [\n",
    "        open('./data/mod_a_sala_4.txt', encoding='utf-8').read(),\n",
    "        open('./data/mod_a_sala_5.txt', encoding='utf-8').read(),\n",
    "        open('./data/mod_a_sala_6.txt', encoding='utf-8').read(),\n",
    "        open('./data/mod_a_sala_7.txt', encoding='utf-8').read()\n",
    "    ],\n",
    "    'B': [\n",
    "        open('./data/mod_b_sala_11.txt', encoding='utf-8').read(),\n",
    "        open('./data/mod_b_sala_12.txt', encoding='utf-8').read(),\n",
    "        open('./data/mod_b_sala_13.txt', encoding='utf-8').read(),\n",
    "        open('./data/mod_b_sala_14.txt', encoding='utf-8').read(),\n",
    "        open('./data/mod_b_sala_15.txt', encoding='utf-8').read(),\n",
    "        open('./data/mod_b_extra.txt', encoding='utf-8').read()\n",
    "    ]\n",
    "}"
   ]
  },
  {
   "cell_type": "code",
   "execution_count": 371,
   "metadata": {},
   "outputs": [],
   "source": [
    "# Using regex to retrieve the answers\n",
    "answers = {'A': [], 'B': []}\n",
    "\n",
    "for modality in modalities:\n",
    "    for room in modalities[modality]:\n",
    "        # Removing break lines and whitespaces for easier regex pattern\n",
    "        string = room.replace('\\n', '').replace(' ','');\n",
    "\n",
    "        # .*?: Anything until you find the next pattern\n",
    "        # \\d*: Any combination of digits (e.g.: 1, 5, 20), indicating the question number\n",
    "        # \\.: The dot character between the question number and the option marked\n",
    "        # \\w: Any character, indicating the option that the student marked\n",
    "        # \\+*: The plus signal, indicating if it's the correct answer (asterisk because it might not a right answer)\n",
    "        matches = re.findall('.*?(\\d*\\.\\w\\+*)', string)\n",
    "\n",
    "        # extend() instead of append() in order to add each individual element to list\n",
    "        answers[modality].extend(matches)"
   ]
  },
  {
   "cell_type": "code",
   "execution_count": 375,
   "metadata": {},
   "outputs": [],
   "source": [
    "right_answers = {'A': [], 'B': []}\n",
    "for modality in answers:\n",
    "    for answer in answers[modality]:\n",
    "        # Gets the question number and weather or not it's a right answer\n",
    "        matches = re.match('(\\d*)\\.\\w(\\+)*', answer)\n",
    "\n",
    "        if (matches.group(1)):\n",
    "            question_number = int(matches.group(1))\n",
    "            if (matches.group(2)): is_right = True\n",
    "            else: is_right = False\n",
    "\n",
    "            if (len(right_answers[modality]) < question_number): right_answers[modality].append(0)\n",
    "            if (is_right): right_answers[modality][question_number-1] += 1"
   ]
  },
  {
   "cell_type": "code",
   "execution_count": null,
   "metadata": {},
   "outputs": [],
   "source": []
  }
 ],
 "metadata": {
  "kernelspec": {
   "display_name": "Python 3",
   "language": "python",
   "name": "python3"
  },
  "language_info": {
   "codemirror_mode": {
    "name": "ipython",
    "version": 3
   },
   "file_extension": ".py",
   "mimetype": "text/x-python",
   "name": "python",
   "nbconvert_exporter": "python",
   "pygments_lexer": "ipython3",
   "version": "3.6.5"
  }
 },
 "nbformat": 4,
 "nbformat_minor": 2
}
