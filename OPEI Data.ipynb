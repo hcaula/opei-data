{
 "cells": [
  {
   "cell_type": "code",
   "execution_count": 35,
   "metadata": {},
   "outputs": [],
   "source": [
    "import pandas as pd\n",
    "import re"
   ]
  },
  {
   "cell_type": "markdown",
   "metadata": {},
   "source": [
    "# Modalities A and B\n",
    "The A and B modalities are very similar in the way they're structured, so it makes sense to treat them similarly. For the Modality C, some few adjustments are going to have to be made, so we'll deal with it later.<br><br>\n",
    "\n",
    "<b>Objectives</b>\n",
    "- Retrieve the amount of right answers per question"
   ]
  },
  {
   "cell_type": "code",
   "execution_count": 360,
   "metadata": {},
   "outputs": [],
   "source": [
    "# Reading individual rooms results\n",
    "modalities = {\n",
    "    'A': [\n",
    "        open('./data/mod_a_sala_4.txt', encoding='utf-8').read(),\n",
    "        open('./data/mod_a_sala_5.txt', encoding='utf-8').read(),\n",
    "        open('./data/mod_a_sala_6.txt', encoding='utf-8').read(),\n",
    "        open('./data/mod_a_sala_7.txt', encoding='utf-8').read()\n",
    "    ],\n",
    "    'B': [\n",
    "        open('./data/mod_b_sala_11.txt', encoding='utf-8').read(),\n",
    "        open('./data/mod_b_sala_12.txt', encoding='utf-8').read(),\n",
    "        open('./data/mod_b_sala_13.txt', encoding='utf-8').read(),\n",
    "        open('./data/mod_b_sala_14.txt', encoding='utf-8').read(),\n",
    "        open('./data/mod_b_sala_15.txt', encoding='utf-8').read(),\n",
    "        open('./data/mod_b_extra.txt', encoding='utf-8').read()\n",
    "    ]\n",
    "}"
   ]
  },
  {
   "cell_type": "code",
   "execution_count": 371,
   "metadata": {},
   "outputs": [],
   "source": [
    "# Using regex to retrieve only the answer list\n",
    "\n",
    "answers = {'A': [], 'B': []}\n",
    "for modality in modalities:\n",
    "    for room in modalities[modality]:\n",
    "        \n",
    "        # Removing break lines and whitespaces for easier regex pattern\n",
    "        string = room.replace('\\n', '').replace(' ','');\n",
    "\n",
    "        # .*? - Anything until you find the next pattern\n",
    "        # \\d* - Any combination of digits (e.g.: 1, 5, 20), indicating the question number\n",
    "        # \\.  - The dot character between the question number and the option marked\n",
    "        # \\w  - Any character, indicating the option that the student marked\n",
    "        # \\+* - The plus signal, indicating if it's the correct answer (asterisk because it might not be a right answer)\n",
    "        matches = re.findall('.*?(\\d*\\.\\w\\+*)', string)\n",
    "\n",
    "        # extend() instead of append() in order to add each individual element to list\n",
    "        answers[modality].extend(matches)"
   ]
  },
  {
   "cell_type": "code",
   "execution_count": 380,
   "metadata": {},
   "outputs": [],
   "source": [
    "# Checking which answers are right ones based on weather or not  it contains a plus sign besides it\n",
    "\n",
    "right_answers = {'A': [], 'B': []}\n",
    "for modality in answers:\n",
    "    for answer in answers[modality]:\n",
    "        \n",
    "        # Matches two groups: the question number and the plus sign\n",
    "        matches = re.match('(\\d*)\\.\\w(\\+)*', answer)\n",
    "        number = matches.group(1)\n",
    "        is_right = matches.group(2)\n",
    "\n",
    "        # Checking if answer list is over and it's a right question\n",
    "        if (number and is_right):\n",
    "            question_number = int(number)\n",
    "\n",
    "            # Appends 0 to the list if it hasn't already\n",
    "            if (len(right_answers[modality]) < question_number): right_answers[modality].append(1)\n",
    "            else: right_answers[modality][question_number-1] += 1"
   ]
  }
 ],
 "metadata": {
  "kernelspec": {
   "display_name": "Python 3",
   "language": "python",
   "name": "python3"
  },
  "language_info": {
   "codemirror_mode": {
    "name": "ipython",
    "version": 3
   },
   "file_extension": ".py",
   "mimetype": "text/x-python",
   "name": "python",
   "nbconvert_exporter": "python",
   "pygments_lexer": "ipython3",
   "version": "3.6.5"
  }
 },
 "nbformat": 4,
 "nbformat_minor": 2
}
